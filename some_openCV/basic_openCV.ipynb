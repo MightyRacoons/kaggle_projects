{
 "cells": [
  {
   "cell_type": "markdown",
   "metadata": {},
   "source": [
    "## Базовые функции для работы в openCV\n",
    "\n",
    "Данная библиотека предназанчена для работы с визуальным контентом и последующей обработкой методами машинного зрения.\n",
    "\n",
    "В этом ноутбуке будут рассмотрены базовые функции данной библиотеки\n",
    "\n",
    "Ставится простой командой `pip install opencv-python`"
   ]
  },
  {
   "cell_type": "code",
   "execution_count": 1,
   "metadata": {},
   "outputs": [],
   "source": [
    "import cv2 #Уверен, что всем очевидно, что это OpenCV\n",
    "import numpy as np\n",
    "import pandas as pd"
   ]
  },
  {
   "cell_type": "markdown",
   "metadata": {},
   "source": [
    "Для демонстрации базовых функций возьмем случайное фото из сети интернет и на его примере рассмотрим такие вещи как:\n",
    "1. Загрузка изображения\n",
    "2. Показ изображения средствами OpenCV\n",
    "3. Смена цветового пространства\n",
    "4. Масштабирование изображения\n",
    "4. Бинаризация изображений\n",
    "5. Выделение контуров объектов"
   ]
  },
  {
   "cell_type": "markdown",
   "metadata": {},
   "source": [
    "## Загрузка изображения \n",
    "\n",
    "Вообще, OpenCV умеен почти в любой формат изображения(если нажать `Shift + Tab` в функции `cv2.imread()` или перейти на страницу документации, то можно озгнакмиться с полным списком)\n",
    "\n",
    "`cv2.imread()` - позволяет прочитать изображение, зная его расположение. \n",
    "\n",
    "Однако, данная функция имеет обманку, на которую может попасться новичек. В большинстве случаев цветные изображения имеют цветовую схему RGB, однако `cv2.imread()`  возвращает изображение в схеме BGR(при параметрах по умолчанию). При обработке стоит об этом помнить"
   ]
  },
  {
   "cell_type": "code",
   "execution_count": 2,
   "metadata": {},
   "outputs": [],
   "source": [
    "picture = cv2.imread('echo_foto.jpg')"
   ]
  },
  {
   "cell_type": "markdown",
   "metadata": {},
   "source": [
    "## Отображение изображения\n",
    "\n",
    "`cv2.imshow()` - функция имеет 2 обязательных аргумента: название окошка, в октором будет отображаться картиночка и саму картиночку \n",
    "\n",
    "`cv2.waitKey()` - параметром функции является время на которое появится изображение. При равенстве 0 или -1 изображение будет отображаться до тех пор, пока пользователь на нажмет любую клавишу на клавиатуре\n",
    "\n",
    "`cv2.destroyAllWindows()` - убивает сразу все открытые окошки"
   ]
  },
  {
   "cell_type": "code",
   "execution_count": 3,
   "metadata": {},
   "outputs": [],
   "source": [
    "cv2.imshow('Just a random picture from internet', picture)\n",
    "cv2.waitKey(-1)\n",
    "cv2.destroyAllWindows()"
   ]
  },
  {
   "cell_type": "markdown",
   "metadata": {},
   "source": [
    "## Конвертирование изображение в другое цветовое пространство\n",
    "\n",
    "`cv2.cvtColor()` - функция конфертирования цветорового формата изображения. На вход принимает само изображение и \"флаг конвертирования\"\n",
    "\n",
    "Флаг имеет следующий вид: `COLOR_FROM2TO`, где `FROM` - схема исходный цветовой формат, `TO` - целевой цветовой формат(тот в который конвертируем)"
   ]
  },
  {
   "cell_type": "code",
   "execution_count": 4,
   "metadata": {},
   "outputs": [],
   "source": [
    "gray_picture = cv2.cvtColor(picture, cv2.COLOR_BGR2GRAY)\n",
    "cv2.imshow('Just a random picture from internet with new color scheme', gray_picture)\n",
    "cv2.waitKey(-1)\n",
    "cv2.destroyAllWindows()"
   ]
  },
  {
   "cell_type": "markdown",
   "metadata": {},
   "source": [
    "## Масштабирование изображения\n",
    "\n",
    "`cv2.resize()` - масштабирует изображение. Принимает 2 обязательных параметра: картинку или целевой размер. В качетсве опчионального параметра принимает метод интерполяции. По умолчанию используется билинейная интерполяция"
   ]
  },
  {
   "cell_type": "code",
   "execution_count": 5,
   "metadata": {},
   "outputs": [
    {
     "name": "stdout",
     "output_type": "stream",
     "text": [
      "Размерность исходной картинки: (200, 200, 3)\n",
      "Размерность масштабированной картинки: (400, 400, 3)\n"
     ]
    }
   ],
   "source": [
    "resized_picture = cv2.resize(picture, (400,400), cv2.INTER_CUBIC)\n",
    "print('Размерность исходной картинки: {0}'.format(picture.shape))\n",
    "print('Размерность масштабированной картинки: {0}'.format(resized_picture.shape))\n",
    "cv2.imshow('Just a resized random picture from internet', resized_picture)\n",
    "cv2.waitKey(-1)\n",
    "cv2.destroyAllWindows()"
   ]
  },
  {
   "cell_type": "markdown",
   "metadata": {},
   "source": [
    "## Бинаризация изображения\n",
    "\n",
    "`cv2.threshold()` - на вход принимает 4 парамтера: картинку в оттенках серого, порог для бинаризации, максимальное значение(используется в некоторых видах бинаризации) и сам вид бинаризации(имееют префикс `THRESH_`)"
   ]
  },
  {
   "cell_type": "code",
   "execution_count": 6,
   "metadata": {},
   "outputs": [
    {
     "data": {
      "text/html": [
       "<div>\n",
       "<style scoped>\n",
       "    .dataframe tbody tr th:only-of-type {\n",
       "        vertical-align: middle;\n",
       "    }\n",
       "\n",
       "    .dataframe tbody tr th {\n",
       "        vertical-align: top;\n",
       "    }\n",
       "\n",
       "    .dataframe thead th {\n",
       "        text-align: right;\n",
       "    }\n",
       "</style>\n",
       "<table border=\"1\" class=\"dataframe\">\n",
       "  <thead>\n",
       "    <tr style=\"text-align: right;\">\n",
       "      <th></th>\n",
       "      <th>Статистика</th>\n",
       "      <th>Значение</th>\n",
       "    </tr>\n",
       "  </thead>\n",
       "  <tbody>\n",
       "    <tr>\n",
       "      <th>0</th>\n",
       "      <td>Минимум</td>\n",
       "      <td>0.000000</td>\n",
       "    </tr>\n",
       "    <tr>\n",
       "      <th>1</th>\n",
       "      <td>25-й перцентиль</td>\n",
       "      <td>68.000000</td>\n",
       "    </tr>\n",
       "    <tr>\n",
       "      <th>2</th>\n",
       "      <td>Среднее</td>\n",
       "      <td>115.665825</td>\n",
       "    </tr>\n",
       "    <tr>\n",
       "      <th>3</th>\n",
       "      <td>Медиана</td>\n",
       "      <td>107.000000</td>\n",
       "    </tr>\n",
       "    <tr>\n",
       "      <th>4</th>\n",
       "      <td>75-й перцентиль</td>\n",
       "      <td>161.000000</td>\n",
       "    </tr>\n",
       "    <tr>\n",
       "      <th>5</th>\n",
       "      <td>90-й перцентиль</td>\n",
       "      <td>201.000000</td>\n",
       "    </tr>\n",
       "    <tr>\n",
       "      <th>6</th>\n",
       "      <td>95-й перцентиль</td>\n",
       "      <td>229.000000</td>\n",
       "    </tr>\n",
       "    <tr>\n",
       "      <th>7</th>\n",
       "      <td>99-й перцентиль</td>\n",
       "      <td>250.000000</td>\n",
       "    </tr>\n",
       "    <tr>\n",
       "      <th>8</th>\n",
       "      <td>Максимум</td>\n",
       "      <td>255.000000</td>\n",
       "    </tr>\n",
       "  </tbody>\n",
       "</table>\n",
       "</div>"
      ],
      "text/plain": [
       "        Статистика    Значение\n",
       "0          Минимум    0.000000\n",
       "1  25-й перцентиль   68.000000\n",
       "2          Среднее  115.665825\n",
       "3          Медиана  107.000000\n",
       "4  75-й перцентиль  161.000000\n",
       "5  90-й перцентиль  201.000000\n",
       "6  95-й перцентиль  229.000000\n",
       "7  99-й перцентиль  250.000000\n",
       "8         Максимум  255.000000"
      ]
     },
     "execution_count": 6,
     "metadata": {},
     "output_type": "execute_result"
    }
   ],
   "source": [
    "stats_names = [\"Минимум\", \"25-й перцентиль\",\"Среднее\", \"Медиана\", \"75-й перцентиль\", \"90-й перцентиль\", \"95-й перцентиль\", \"99-й перцентиль\", \"Максимум\"]\n",
    "stats_values = [gray_picture.min(), np.percentile(gray_picture, 25), gray_picture.mean(), np.percentile(gray_picture, 50), np.percentile(gray_picture, 75),\n",
    "                np.percentile(gray_picture, 90), np.percentile(gray_picture, 95), np.percentile(gray_picture, 99), gray_picture.max()]\n",
    "df = pd.DataFrame({'Статистика': stats_names, 'Значение': stats_values})\n",
    "df"
   ]
  },
  {
   "cell_type": "code",
   "execution_count": 12,
   "metadata": {},
   "outputs": [],
   "source": [
    "something, binarized_picture = cv2.threshold(gray_picture, thresh=120, maxval=25, type=cv2.THRESH_TOZERO)\n",
    "cv2.imshow('Just a random picture from internet after threshold binarization', binarized_picture)\n",
    "cv2.waitKey(-1)\n",
    "cv2.destroyAllWindows()"
   ]
  },
  {
   "cell_type": "markdown",
   "metadata": {},
   "source": [
    "## Поиск контуров на бинарном изображении\n",
    "\n",
    "`cv2.findContours` - прнимает 3 парамета: бинаризированное изображение, метод восстановления контура(префикс `RETR_`) и метод аппроксимации контура(префикс `CHAIN_APPROX_`)\n",
    "\n",
    "`cv2.drawContours` - принимает 4(плюс несколько опциональных) аргумента: картинку, контур, который будет добавлен(результат функции `cv2.findContours()`), индекс контура(при значении -1 выбираются все), цвет и толщина линии "
   ]
  },
  {
   "cell_type": "code",
   "execution_count": 17,
   "metadata": {},
   "outputs": [],
   "source": [
    "contours, hierarhy = cv2.findContours(binarized_picture, mode=cv2.RETR_LIST, method=cv2.CHAIN_APPROX_SIMPLE)\n",
    "image_with_contour = cv2.drawContours(picture, contours, -1, (1, 0, 1), 1)\n",
    "cv2.imshow('Image with contours', image_with_contour)\n",
    "cv2.waitKey(-1)\n",
    "cv2.destroyAllWindows()"
   ]
  },
  {
   "cell_type": "code",
   "execution_count": null,
   "metadata": {},
   "outputs": [],
   "source": []
  }
 ],
 "metadata": {
  "kernelspec": {
   "display_name": "Python 3",
   "language": "python",
   "name": "python3"
  },
  "language_info": {
   "codemirror_mode": {
    "name": "ipython",
    "version": 3
   },
   "file_extension": ".py",
   "mimetype": "text/x-python",
   "name": "python",
   "nbconvert_exporter": "python",
   "pygments_lexer": "ipython3",
   "version": "3.7.3"
  }
 },
 "nbformat": 4,
 "nbformat_minor": 2
}
